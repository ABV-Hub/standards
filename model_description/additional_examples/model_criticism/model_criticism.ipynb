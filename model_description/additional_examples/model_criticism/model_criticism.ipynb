{
 "cells": [
  {
   "cell_type": "markdown",
   "metadata": {},
   "source": [
    "# Criticism of the model"
   ]
  },
  {
   "cell_type": "markdown",
   "metadata": {},
   "source": [
    "Model criticism is necessary to validate that the model solves the task quite accurately and has the properties and functionality that were incorporated in it at the time of the development of the architecture. In the process of criticism, both the architecture of the model itself and cases of incorrect work are investigated and analyzed to find ways to further improvement."
   ]
  },
  {
   "cell_type": "markdown",
   "metadata": {},
   "source": [
    "Below are the stages of model criticism, for each of which there is a list of problems that can be detected on it:"
   ]
  },
  {
   "cell_type": "markdown",
   "metadata": {},
   "source": [
    "### 1. Analysis of the architecture and training procedures"
   ]
  },
  {
   "cell_type": "markdown",
   "metadata": {},
   "source": [
    "* **The presence of \"dead\" neurons**<br>\n",
    "\n",
    "When using the ReLU activation function, it is possible that a group of neurons ceases to be activated for all objects in the sample. This means that unnecessary calculations are made that do not affect the final result.\n",
    "\n",
    "* **Missing model functionality**<br>\n",
    "\n",
    "There are architectures that, in addition to the predicted value, provide additional information about the model's behavior by adding some complications, such as the attention block modules. In some cases, this information does not allow for a better interpretation of the model, while it becomes more complicated, which negatively affects the time of training and inference."
   ]
  },
  {
   "cell_type": "markdown",
   "metadata": {},
   "source": [
    "### 2. Analysis of the model quality assessment procedure"
   ]
  },
  {
   "cell_type": "markdown",
   "metadata": {},
   "source": [
    "* [**Invalid metric selection**](class_imbalance.ipynb)<br>\n",
    "In some cases, the selected metric does not reflect the real quality of the model, for example accuracy in the case of a strong imbalance of classes.\n",
    "\n",
    "* **The instability of the metric value with repeated training of the model**<br>\n",
    "\n",
    "Randomness in the learning procedure can have a non-negligible impact on the value of the selected metric, so a single training of the model is not enough to determine the quality of the model, since the obtained value of the metric can be an outlier."
   ]
  },
  {
   "cell_type": "markdown",
   "metadata": {},
   "source": [
    "### 3. Analysis of  the incorrect predictions"
   ]
  },
  {
   "cell_type": "markdown",
   "metadata": {},
   "source": [
    "* [**Not enough data augmentation**](data_augmentation.ipynb)<br>\n",
    "The model may not be invariant to some transformations of the input data that may appear in the test set.\n",
    "\n",
    "* [**Unnoticed class imbalance**](class_imbalance.ipynb)<br>\n",
    "Due to a high class imbalance model can overfit and predict only majority classes while on some metrics this will be reflected slightly."
   ]
  }
 ],
 "metadata": {
  "kernelspec": {
   "display_name": "Python 3",
   "language": "python",
   "name": "python3"
  },
  "language_info": {
   "codemirror_mode": {
    "name": "ipython",
    "version": 3
   },
   "file_extension": ".py",
   "mimetype": "text/x-python",
   "name": "python",
   "nbconvert_exporter": "python",
   "pygments_lexer": "ipython3",
   "version": "3.6.5"
  }
 },
 "nbformat": 4,
 "nbformat_minor": 2
}
