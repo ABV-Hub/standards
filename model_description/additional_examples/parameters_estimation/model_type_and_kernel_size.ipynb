{
 "cells": [
  {
   "cell_type": "markdown",
   "metadata": {},
   "source": [
    "# Neural network architecture selection"
   ]
  },
  {
   "cell_type": "markdown",
   "metadata": {},
   "source": [
    "To study the effect of neural net architecture and kernel size for the task of circle center detection defined [here](../../model_examples/regression_model/model_description.ipynb) and choose the optimal model.\n"
   ]
  },
  {
   "cell_type": "markdown",
   "metadata": {},
   "source": [
    "* [The parameters studied](#The-parameters-studied)\n",
    "* [Parameters Value Area](#Parameters-Value-Area)\n",
    "* [Metrics](#Metrics)\n",
    "* [Dataset loading](#Dataset-loading)\n",
    "* [Creating a model template](#Creating-a-model-template)\n",
    "* [Creating a research object](#Creating-a-research-object)\n",
    "* [Results](#Results)\n",
    "* [Conclusion](#Conclusion)\n"
   ]
  },
  {
   "cell_type": "markdown",
   "metadata": {},
   "source": [
    "### The parameters studied\n",
    "Kernel size in convolutial layers and network architecture.\n",
    "\n",
    "\n",
    "### Parameters Value Area\n",
    "* __Models__: Inception_v3, MobileNet, ResNet34\n",
    "* __Kernel size in ResNet34__: 3х3, 5х5, 7х7\n",
    "\n",
    "\n",
    "### Metrics\n",
    "The metric is MSE (mean squared error) on the test and on the training part of the dataset."
   ]
  },
  {
   "cell_type": "code",
   "execution_count": 1,
   "metadata": {},
   "outputs": [],
   "source": [
    "import os\n",
    "import sys\n",
    "sys.path.insert(0, os.path.join(\"..\", \"..\", \"..\"))\n",
    "\n",
    "from batchflow import Dataset, Pipeline, V, C, B\n",
    "from batchflow.research import Option, Research, Results\n",
    "from batchflow.models.tf import Inception_v3, MobileNet, ResNet34\n",
    "\n",
    "from src import ShapesBatch, get_mse, show_research"
   ]
  },
  {
   "cell_type": "markdown",
   "metadata": {},
   "source": [
    "# Dataset loading"
   ]
  },
  {
   "cell_type": "code",
   "execution_count": 2,
   "metadata": {},
   "outputs": [],
   "source": [
    "imset = Dataset(1000, ShapesBatch)"
   ]
  },
  {
   "cell_type": "markdown",
   "metadata": {},
   "source": [
    "# Creating a model template\n",
    "Define model config"
   ]
  },
  {
   "cell_type": "code",
   "execution_count": 3,
   "metadata": {},
   "outputs": [],
   "source": [
    "BATCH_SIZE = 50\n",
    "N_REPS = 3\n",
    "N_ITERS = 120"
   ]
  },
  {
   "cell_type": "code",
   "execution_count": 4,
   "metadata": {},
   "outputs": [],
   "source": [
    "model_config = {\n",
    "    'inputs/images/shape': B('image_shape'),\n",
    "    'inputs/labels/shape': 2,\n",
    "    'initial_block/inputs': 'images',\n",
    "    'body/block/kernel_size': C('kernel_size'),\n",
    "    'loss': 'mse',\n",
    "    'optimizer': 'Adam'\n",
    "}"
   ]
  },
  {
   "cell_type": "markdown",
   "metadata": {},
   "source": [
    "Define train and test pipeline and set parameters of lazy run with BATCH_SIZE = 50"
   ]
  },
  {
   "cell_type": "code",
   "execution_count": 5,
   "metadata": {},
   "outputs": [],
   "source": [
    "BATCH_SIZE = 50\n",
    "IMAGE_SIZE = 128"
   ]
  },
  {
   "cell_type": "code",
   "execution_count": 6,
   "metadata": {},
   "outputs": [],
   "source": [
    "train_pipeline  = (imset.p\n",
    "                   .init_variable('loss', init_on_each_run=list)                   \n",
    "                   .init_model('dynamic', C('model'), 'model', config=model_config)\n",
    "                   .sample_images(IMAGE_SIZE, max_r=24)\n",
    "                   .train_model('model', fetches='loss',\n",
    "                                images=B('images'), labels=B('labels'),\n",
    "                                save_to=V('loss', mode='w'))\n",
    "                   .run_later(BATCH_SIZE, shuffle=True, n_epochs=None)\n",
    ")\n",
    "test_pipeline = (imset.p\n",
    "                 .init_variable('predictions', init_on_each_run=list)\n",
    "                 .init_variable(\"targets\", init_on_each_run=list)\n",
    "                 .import_model('model', C('import_from'))\n",
    "                 .sample_images(IMAGE_SIZE)\n",
    "                 .update(V('targets', mode='e'), B('labels'))\n",
    "                 .predict_model('model', fetches='predictions',\n",
    "                                images=B('images'),\n",
    "                                save_to=V('predictions', mode='e'))\n",
    "                 .run_later(BATCH_SIZE, shuffle=False, n_epochs=1)\n",
    ")"
   ]
  },
  {
   "cell_type": "markdown",
   "metadata": {},
   "source": [
    "# Creating a research object\n",
    "\n",
    "\n",
    "Set the parameters for research execution:\n",
    "\n",
    "For each parameter set perform NUM_ITERS=120 iterations of train pipeline with model performance evaluation every 12 iterations. Repeat this procedure NUM_REPEAT=3 times.\n",
    "\n",
    "We add to the research a function get_mse that gets results of the test pipeline and will be executed every 12 iterations.\n",
    "\n",
    "Results of the research execution will be saved in the directory __combination_research__"
   ]
  },
  {
   "cell_type": "code",
   "execution_count": 7,
   "metadata": {},
   "outputs": [],
   "source": [
    "opts = Option('model', [Inception_v3, MobileNet]) #+ Option('model', [ResNet34]) * Option('kernel_size', [3, 5, 7])\n",
    "\n",
    "research = (Research()\n",
    "            .add_pipeline(train_pipeline, variables='loss', name='train')\n",
    "            .add_pipeline(test_pipeline, name='test', execute=12,\n",
    "                          run=True, import_from='train')\n",
    "            .add_function(get_mse, returns='loss', name='test_mse',\n",
    "                          execute=12, pipeline='test')\n",
    "            .add_grid(opts)\n",
    ")"
   ]
  },
  {
   "cell_type": "markdown",
   "metadata": {},
   "source": [
    "Run research:"
   ]
  },
  {
   "cell_type": "code",
   "execution_count": 8,
   "metadata": {},
   "outputs": [],
   "source": [
    "N_REPS = 3\n",
    "N_ITERS = 120"
   ]
  },
  {
   "cell_type": "code",
   "execution_count": 9,
   "metadata": {},
   "outputs": [
    {
     "name": "stdout",
     "output_type": "stream",
     "text": [
      "Research combination_research is starting...\n"
     ]
    },
    {
     "name": "stderr",
     "output_type": "stream",
     "text": [
      "  0%|          | 0/720 [00:00<?, ?it/s]"
     ]
    },
    {
     "name": "stdout",
     "output_type": "stream",
     "text": [
      "Distributor has 6 jobs with 120 iterations. Totally: 720\n"
     ]
    },
    {
     "name": "stderr",
     "output_type": "stream",
     "text": [
      "100%|██████████| 720/720 [00:01<00:00, 402.01it/s]\n"
     ]
    },
    {
     "data": {
      "text/plain": [
       "<batchflow.research.research.Research at 0x7f661b314278>"
      ]
     },
     "execution_count": 9,
     "metadata": {},
     "output_type": "execute_result"
    }
   ],
   "source": [
    "research_name = 'combination_research'\n",
    "research.run(n_reps=N_REPS, n_iters=N_ITERS, name=research_name, bar=True)"
   ]
  },
  {
   "cell_type": "markdown",
   "metadata": {},
   "source": [
    "# Results\n",
    "Loss functions vs a number of iterations for each parameters set:"
   ]
  },
  {
   "cell_type": "code",
   "execution_count": 10,
   "metadata": {},
   "outputs": [
    {
     "data": {
      "image/png": "[encoded data removed]",
      "text/plain": [
       "<Figure size 1296x504 with 2 Axes>"
      ]
     },
     "metadata": {
      "needs_background": "light"
     },
     "output_type": "display_data"
    }
   ],
   "source": [
    "data = Results(path=research_name).load(use_alias=True)\n",
    "show_research(data, average_repetitions=True, log_scale=[True, True],\n",
    "              layout=['train/loss', 'test_mse/loss'], rolling_window=[20, 2])"
   ]
  },
  {
   "cell_type": "markdown",
   "metadata": {},
   "source": [
    "# Conclusion\n",
    "\n",
    "Models Inception v3 and MobileNet converge more slowly than ResNet34.\n",
    "\n",
    "ResNet34 with different kerlel size show approximately no difference in quality and rate of convergence therefore it is better to choose the model with the least number of parameters, i.e. __ResNet34 with kernel size 3х3.__"
   ]
  },
  {
   "cell_type": "code",
   "execution_count": 11,
   "metadata": {},
   "outputs": [
    {
     "name": "stdout",
     "output_type": "stream",
     "text": [
      "<class 'pandas.core.frame.DataFrame'>\n",
      "RangeIndex: 0 entries\n",
      "Data columns (total 5 columns):\n",
      "config        0 non-null object\n",
      "iteration     0 non-null float64\n",
      "loss          0 non-null float64\n",
      "name          0 non-null object\n",
      "repetition    0 non-null int64\n",
      "dtypes: float64(2), int64(1), object(2)\n",
      "memory usage: 76.0+ bytes\n"
     ]
    }
   ],
   "source": [
    "data.info()"
   ]
  },
  {
   "cell_type": "code",
   "execution_count": 12,
   "metadata": {},
   "outputs": [
    {
     "data": {
      "text/plain": [
       "[ConfigAlias({'model': 'Inception_v3'}), ConfigAlias({'model': 'MobileNet'})]"
      ]
     },
     "execution_count": 12,
     "metadata": {},
     "output_type": "execute_result"
    }
   ],
   "source": [
    "list(opts.gen_configs())"
   ]
  },
  {
   "cell_type": "code",
   "execution_count": 13,
   "metadata": {},
   "outputs": [
    {
     "data": {
      "text/plain": [
       "array([], dtype=object)"
      ]
     },
     "execution_count": 13,
     "metadata": {},
     "output_type": "execute_result"
    }
   ],
   "source": [
    "data.config.unique()"
   ]
  },
  {
   "cell_type": "code",
   "execution_count": null,
   "metadata": {},
   "outputs": [],
   "source": []
  }
 ],
 "metadata": {
  "kernelspec": {
   "display_name": "Python 3",
   "language": "python",
   "name": "python3"
  },
  "language_info": {
   "codemirror_mode": {
    "name": "ipython",
    "version": 3
   },
   "file_extension": ".py",
   "mimetype": "text/x-python",
   "name": "python",
   "nbconvert_exporter": "python",
   "pygments_lexer": "ipython3",
   "version": "3.5.2"
  }
 },
 "nbformat": 4,
 "nbformat_minor": 4
}
