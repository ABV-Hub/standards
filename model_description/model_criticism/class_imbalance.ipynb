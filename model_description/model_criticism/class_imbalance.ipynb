{
 "cells": [
  {
   "cell_type": "markdown",
   "metadata": {},
   "source": [
    "# Class imbalance and invalid metric selection"
   ]
  },
  {
   "cell_type": "markdown",
   "metadata": {},
   "source": [
    "In this notebook we give an example when a highly imbalanced data and invalid metric selection can give a misleading representation about the model quality."
   ]
  },
  {
   "cell_type": "code",
   "execution_count": 1,
   "metadata": {},
   "outputs": [],
   "source": [
    "import os\n",
    "import sys\n",
    "\n",
    "import numpy as np\n",
    "import matplotlib.pyplot as plt\n",
    "\n",
    "sys.path.insert(0, os.path.join(\"..\", \"..\"))\n",
    "from batchflow import DatasetIndex, Pipeline, B, V\n",
    "from batchflow.opensets import MNIST\n",
    "from batchflow.models.tf import TFModel\n",
    "\n",
    "from src import show_loss"
   ]
  },
  {
   "cell_type": "markdown",
   "metadata": {},
   "source": [
    "## Dataset"
   ]
  },
  {
   "cell_type": "markdown",
   "metadata": {},
   "source": [
    "For training and model performance assessment we use the MNIST dataset of images of size 28х28 pixels in greyscale."
   ]
  },
  {
   "cell_type": "code",
   "execution_count": 2,
   "metadata": {
    "scrolled": true
   },
   "outputs": [
    {
     "name": "stdout",
     "output_type": "stream",
     "text": [
      "Downloading http://yann.lecun.com/exdb/mnist/train-images-idx3-ubyte.gz\n",
      "Extracting /tmp/train-images-idx3-ubyte.gz\n",
      "Downloading http://yann.lecun.com/exdb/mnist/train-labels-idx1-ubyte.gz\n",
      "Extracting /tmp/train-labels-idx1-ubyte.gz\n",
      "Downloading http://yann.lecun.com/exdb/mnist/t10k-images-idx3-ubyte.gz\n",
      "Extracting /tmp/t10k-images-idx3-ubyte.gz\n",
      "Downloading http://yann.lecun.com/exdb/mnist/t10k-labels-idx1-ubyte.gz\n",
      "Extracting /tmp/t10k-labels-idx1-ubyte.gz\n"
     ]
    }
   ],
   "source": [
    "mnist = MNIST()"
   ]
  },
  {
   "cell_type": "markdown",
   "metadata": {},
   "source": [
    "Let's add class imbalance by reducing the number of digits 7, 8 and 9 by 500 times:"
   ]
  },
  {
   "cell_type": "code",
   "execution_count": 3,
   "metadata": {},
   "outputs": [],
   "source": [
    "def downsample_classes(dataset, targets, classes, factor):\n",
    "    unique_classes = np.unique(targets)\n",
    "    indices = []\n",
    "    for cls in unique_classes:\n",
    "        cls_indices = dataset.indices[targets == cls]\n",
    "        if cls in classes:\n",
    "            cls_indices = np.random.choice(cls_indices, len(cls_indices) // factor, replace=False)\n",
    "        indices.append(cls_indices)\n",
    "    index = DatasetIndex(np.sort(np.concatenate(indices)))\n",
    "    return dataset.create_subset(index)"
   ]
  },
  {
   "cell_type": "code",
   "execution_count": 4,
   "metadata": {},
   "outputs": [],
   "source": [
    "CLASSES = [7, 8, 9]\n",
    "FACTOR = 500\n",
    "\n",
    "mnist.train = downsample_classes(mnist.train, mnist.train.preloaded[1], CLASSES, FACTOR)\n",
    "mnist.test = downsample_classes(mnist.test, mnist.test.preloaded[1], CLASSES, FACTOR)"
   ]
  },
  {
   "cell_type": "markdown",
   "metadata": {},
   "source": [
    "## Model architecture"
   ]
  },
  {
   "cell_type": "markdown",
   "metadata": {},
   "source": [
    "We use CNN with 3 convolutional layers and one dense layer in the end.\n",
    "\n",
    "Loss function is categorical cross-entropy.\n",
    "\n",
    "Optimizer is Adam with default parameters."
   ]
  },
  {
   "cell_type": "code",
   "execution_count": 5,
   "metadata": {},
   "outputs": [],
   "source": [
    "model_config = {\n",
    "    \"inputs\": dict(images={\"shape\": B(\"image_shape\")},\n",
    "                   labels={\"classes\": 10}),\n",
    "    \"initial_block/inputs\": \"images\",\n",
    "    \"body\": {\"layout\": \"cpa\" * 3, \"filters\": 10, \"kernel_size\": 3},\n",
    "    \"head\": {\"layout\": \"f\", \"units\": 10},\n",
    "    \"loss\": \"crossentropy\",\n",
    "    \"optimizer\": \"Adam\",\n",
    "}"
   ]
  },
  {
   "cell_type": "markdown",
   "metadata": {},
   "source": [
    "## Model training"
   ]
  },
  {
   "cell_type": "markdown",
   "metadata": {},
   "source": [
    "We train model for 10 epochs with batch size 256."
   ]
  },
  {
   "cell_type": "code",
   "execution_count": 6,
   "metadata": {},
   "outputs": [],
   "source": [
    "N_EPOCH = 10\n",
    "BATCH_SIZE = 256"
   ]
  },
  {
   "cell_type": "code",
   "execution_count": 7,
   "metadata": {},
   "outputs": [
    {
     "name": "stderr",
     "output_type": "stream",
     "text": [
      "100%|██████████| 1630/1630 [05:16<00:00,  5.43it/s]\n"
     ]
    }
   ],
   "source": [
    "template_train_pipeline = (\n",
    "    Pipeline()\n",
    "    .init_variable(\"loss_history\", init_on_each_run=list)\n",
    "    .init_model(\"dynamic\", TFModel, \"conv_model\", config=model_config)\n",
    "    .to_array()\n",
    "    .train_model(\"conv_model\", images=B(\"images\"), labels=B(\"labels\"),\n",
    "                 fetches=\"loss\", save_to=V(\"loss_history\"), mode=\"a\")\n",
    "    .run(batch_size=BATCH_SIZE, n_epochs=N_EPOCH, shuffle=True, drop_last=True, bar=True, lazy=True)\n",
    ")\n",
    "\n",
    "train_pipeline = (mnist.train >> template_train_pipeline).run()"
   ]
  },
  {
   "cell_type": "markdown",
   "metadata": {},
   "source": [
    "Loss function vs number of iterations plot comes to a plateau, which indicates the convergence of the learning process:"
   ]
  },
  {
   "cell_type": "code",
   "execution_count": 8,
   "metadata": {},
   "outputs": [
    {
     "data": {
      "image/png": "[encoded data removed]",
      "text/plain": [
       "<Figure size 432x288 with 1 Axes>"
      ]
     },
     "metadata": {},
     "output_type": "display_data"
    }
   ],
   "source": [
    "show_loss(train_pipeline.get_variable(\"loss_history\"), skip=100)"
   ]
  },
  {
   "cell_type": "markdown",
   "metadata": {},
   "source": [
    "## Model evaluation and model criticism"
   ]
  },
  {
   "cell_type": "markdown",
   "metadata": {},
   "source": [
    "First, let's look at the accuracy metric on the test dataset:"
   ]
  },
  {
   "cell_type": "code",
   "execution_count": 9,
   "metadata": {
    "scrolled": true
   },
   "outputs": [
    {
     "name": "stderr",
     "output_type": "stream",
     "text": [
      " 96%|█████████▋| 27/28 [00:01<00:00, 15.98it/s]\n"
     ]
    }
   ],
   "source": [
    "template_test_pipeline = (\n",
    "    Pipeline()\n",
    "    .import_model(\"conv_model\", train_pipeline)\n",
    "    .init_variable(\"predictions\")\n",
    "    .init_variable(\"metrics\", init_on_each_run=None)\n",
    "    .to_array()\n",
    "    .predict_model(\"conv_model\", images=B(\"images\"), labels=B(\"labels\"),\n",
    "                   fetches=\"predictions\", save_to=V(\"predictions\"))\n",
    "    .gather_metrics(\"class\", targets=B(\"labels\"), predictions=V(\"predictions\"),\n",
    "                    fmt=\"logits\", axis=-1, save_to=V(\"metrics\"), mode=\"u\")\n",
    "    .run(batch_size=BATCH_SIZE, n_epochs=1, drop_last=False, bar=True, lazy=True)\n",
    ")\n",
    "\n",
    "test_pipeline = (mnist.test >> template_test_pipeline).run()"
   ]
  },
  {
   "cell_type": "code",
   "execution_count": 10,
   "metadata": {},
   "outputs": [
    {
     "data": {
      "text/plain": [
       "0.9748355733485845"
      ]
     },
     "execution_count": 10,
     "metadata": {},
     "output_type": "execute_result"
    }
   ],
   "source": [
    "metrics = test_pipeline.get_variable(\"metrics\")\n",
    "metrics.evaluate(\"accuracy\")"
   ]
  },
  {
   "cell_type": "markdown",
   "metadata": {},
   "source": [
    "So it seems that the model has learned to recognize the numbers from the test data set with high accuracy. But now let's look at the F1-score value for each of the classes separately:"
   ]
  },
  {
   "cell_type": "code",
   "execution_count": 11,
   "metadata": {},
   "outputs": [
    {
     "data": {
      "text/plain": [
       "array([0.9812278 , 0.98597721, 0.97669903, 0.97270471, 0.97919838,\n",
       "       0.96283784, 0.96486628, 0.        , 0.        , 0.        ])"
      ]
     },
     "execution_count": 11,
     "metadata": {},
     "output_type": "execute_result"
    }
   ],
   "source": [
    "metrics.evaluate(\"f1_score\", multiclass=None)"
   ]
  },
  {
   "cell_type": "markdown",
   "metadata": {},
   "source": [
    "It turns out that the model successfully classifies numbers only from the majority classes, but numbers 7, 8 and 9 do not recognize at all. This problem can be solved by oversampling, undersampling or using class-weighted loss function."
   ]
  }
 ],
 "metadata": {
  "kernelspec": {
   "display_name": "Python 3",
   "language": "python",
   "name": "python3"
  },
  "language_info": {
   "codemirror_mode": {
    "name": "ipython",
    "version": 3
   },
   "file_extension": ".py",
   "mimetype": "text/x-python",
   "name": "python",
   "nbconvert_exporter": "python",
   "pygments_lexer": "ipython3",
   "version": "3.6.5"
  }
 },
 "nbformat": 4,
 "nbformat_minor": 2
}
