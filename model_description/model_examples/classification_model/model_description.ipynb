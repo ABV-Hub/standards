{
 "cells": [
  {
   "cell_type": "markdown",
   "metadata": {},
   "source": [
    "# Model for hand-written digits classification"
   ]
  },
  {
   "cell_type": "markdown",
   "metadata": {},
   "source": [
    "## Contents\n",
    "* [Task description](#Task-description)\n",
    "* [Dataset](#Dataset)\n",
    "* [Model architecture](#Model-architecture)\n",
    "* [Selection of hyperparameters](#Selection-of-hyperparameters)\n",
    "* [Training](#Training)\n",
    "* [Inference](#Inference)\n",
    "* [Model evaluation](#Model-evaluation)\n",
    "* [Operating time](#Operating-time)\n",
    "* [Criticism](#Criticism)\n",
    "* [Summary](#Summary)\n",
    "* [Proposals for the improvement and further development](#Proposals-for-the-improvement-and-further-development)"
   ]
  },
  {
   "cell_type": "markdown",
   "metadata": {},
   "source": [
    "## Task description\n",
    "Image classification of hand-written digits\n"
   ]
  },
  {
   "cell_type": "markdown",
   "metadata": {},
   "source": [
    "## Dataset\n",
    "\n",
    "For training and model performance assessment we use the MNIST dataset.\n",
    "\n",
    "Dataset consists of two parts: train (60k items) and test (10k items).\n",
    "Each one consists of:\n",
    "* an array of images of size 28х28 pixels in greyscale\n",
    "* an array of labels corresponding to a digit on each image.\n",
    "\n",
    "Collection of dataset and labeling process are described at [http://yann.lecun.com/exdb/mnist/](http://yann.lecun.com/exdb/mnist/)."
   ]
  },
  {
   "cell_type": "markdown",
   "metadata": {},
   "source": [
    "Dataset loading"
   ]
  },
  {
   "cell_type": "code",
   "execution_count": 1,
   "metadata": {},
   "outputs": [
    {
     "name": "stdout",
     "output_type": "stream",
     "text": [
      "Downloading http://yann.lecun.com/exdb/mnist/train-images-idx3-ubyte.gz\n",
      "Downloading http://yann.lecun.com/exdb/mnist/train-labels-idx1-ubyte.gz\n",
      "Extracting /tmp/train-images-idx3-ubyte.gzExtracting /tmp/train-labels-idx1-ubyte.gz\n",
      "\n",
      "Downloading http://yann.lecun.com/exdb/mnist/t10k-images-idx3-ubyte.gz\n",
      "Downloading http://yann.lecun.com/exdb/mnist/t10k-labels-idx1-ubyte.gz\n",
      "Extracting /tmp/t10k-labels-idx1-ubyte.gz\n",
      "Extracting /tmp/t10k-images-idx3-ubyte.gz\n"
     ]
    }
   ],
   "source": [
    "import os\n",
    "import sys\n",
    "import numpy as np\n",
    "import matplotlib.pyplot as plt\n",
    "\n",
    "sys.path.insert(0, os.path.join(\"..\", \"..\"))\n",
    "from batchflow import best_practice, B, F, V, C, R, Pipeline\n",
    "from batchflow.opensets import MNIST\n",
    "from batchflow.models.tf import TFModel\n",
    "from batchflow.research import Results\n",
    "\n",
    "from src import (show_samples, class_histogram, show_loss, show_histogram,\n",
    "                 get_confusion_matrix, class_precision)\n",
    "\n",
    "mnist = MNIST()"
   ]
  },
  {
   "cell_type": "markdown",
   "metadata": {},
   "source": [
    "Distribution of a number of examples for each class in train and test set.\n",
    "As we can see classes are quietly balanced."
   ]
  },
  {
   "cell_type": "code",
   "execution_count": 2,
   "metadata": {},
   "outputs": [
    {
     "data": {
      "image/png": "[encoded data removed]",
      "text/plain": [
       "<Figure size 432x288 with 1 Axes>"
      ]
     },
     "metadata": {},
     "output_type": "display_data"
    }
   ],
   "source": [
    "train = mnist.train.next_batch(len(mnist.train))\n",
    "test = mnist.test.next_batch(len(mnist.test))\n",
    "\n",
    "class_histogram(train, test)"
   ]
  },
  {
   "cell_type": "markdown",
   "metadata": {},
   "source": [
    "Examples of dataset items."
   ]
  },
  {
   "cell_type": "code",
   "execution_count": 3,
   "metadata": {},
   "outputs": [
    {
     "data": {
      "image/png": "[encoded data removed]",
      "text/plain": [
       "<Figure size 1080x216 with 6 Axes>"
      ]
     },
     "metadata": {},
     "output_type": "display_data"
    }
   ],
   "source": [
    "size = 5\n",
    "\n",
    "show_samples(train.to_array().images[:size, :, :, 0], labels=train.labels[:size])"
   ]
  },
  {
   "cell_type": "markdown",
   "metadata": {},
   "source": [
    "Data reliability is proved by multiple usages in research e.g. \n",
    "* https://arxiv.org/pdf/1704.07709\n",
    "* https://arxiv.org/abs/1302.4389\n",
    "* https://arxiv.org/abs/1312.4400."
   ]
  },
  {
   "cell_type": "markdown",
   "metadata": {},
   "source": [
    "## Model architecture\n",
    "\n",
    "We use a convolutional neural network consisting of 3 identical blocks.\n",
    "The network architecture can be described by layout `cpna cpna cpna Pf`, where letters correspond to the following layers:\n",
    "* `с` - 2d convolution\n",
    "* `p` - max pooling\n",
    "* `n` - batch normalisation\n",
    "* `a` - activation\n",
    "* `P` - global average pooling\n",
    "* `f` - dense\n",
    "\n",
    "Convolutional layer parameters `c`:\n",
    "* ```filters```= 64 * 2**i, where i - block number, i=0, 1, 2.\n",
    "* ```kernel_size``` = 3\n",
    "* ```strides``` = 2\n",
    "* ```padding``` = 'same'\n",
    "* ```data_format``` = 'channels_last'\n",
    "* ```activation``` = `None`\n",
    "\n",
    "Pooling layer parameters `p`:\n",
    "* ```pool_size``` = 2\n",
    "* ```pool_strides``` = 1.\n",
    "\n",
    "Activation layer parameters `a`:\n",
    "* `activation` = `tf.nn.relu`\n",
    "\n",
    "Dense layer parameters `dense`:\n",
    "* `filters` = 10\n",
    "* `activation` = `None`\n",
    "\n",
    "Model description config:"
   ]
  },
  {
   "cell_type": "code",
   "execution_count": 4,
   "metadata": {},
   "outputs": [],
   "source": [
    "NUM_CLASSES = 10\n",
    "\n",
    "model_config = {\n",
    "    'inputs': dict(images=dict(shape=B('image_shape')),\n",
    "                   labels=dict(classes=NUM_CLASSES, transform='ohe', name='targets')),\n",
    "    'body': dict(layout='cpna cpna cpna', filters=[64, 128, 256],\n",
    "                 strides=2, pool_strides=1, kernel_size=3),\n",
    "    'head': dict(layout='Pf', units=NUM_CLASSES),\n",
    "    'initial_block/inputs': 'images',\n",
    "    'loss': 'crossentropy',\n",
    "    'optimizer': ('Momentum', {'use_nesterov': True, 'learning_rate': 0.01, 'momentum': 0.5}),\n",
    "    'output': ['proba']}"
   ]
  },
  {
   "cell_type": "markdown",
   "metadata": {},
   "source": [
    "## Selection of hyperparameters\n",
    "\n",
    "The choice of this architecture (number of blocks and number of filters in convolutional layers) is motivated by the [research](https://github.com/analysiscenter/standards/blob/model/model_examples/classification_model/parameters_estimation.ipynb).\n",
    "\n",
    "Other parameters such as an activation function and single block layout are chosen due to the common standards. "
   ]
  },
  {
   "cell_type": "markdown",
   "metadata": {},
   "source": [
    "## Training\n",
    "\n",
    "We train our model using stochastic gradient descent. On each iteration we\n",
    "* load mini-batch data\n",
    "* update the weights \n",
    "\n",
    "Algorith of weights update (optimizer) is the Nesterov momentum with hyperparameters:\n",
    "* ```learning_rate``` = 0.01\n",
    "* ```mu``` = 0.5\n",
    "\n",
    "The choice of optimizer hyperparameters is motivated by the [research](../../research_examples/model_training/optimizer_search.ipynb), as for they show the best convergence.\n",
    "\n",
    "Loss - cross-entropy.\n",
    "\n",
    "Dataset bypass:\n",
    "* ```batch_size``` = 64\n",
    "* ```n_epochs``` = 10."
   ]
  },
  {
   "cell_type": "markdown",
   "metadata": {},
   "source": [
    "Training pipeline:"
   ]
  },
  {
   "cell_type": "code",
   "execution_count": 5,
   "metadata": {},
   "outputs": [],
   "source": [
    "train_template = (Pipeline()\n",
    "                  .init_variable('loss_history', init_on_each_run=list)\n",
    "                  .init_model('dynamic', TFModel, 'mnist_model', config=model_config)\n",
    "                  .to_array()\n",
    "                  .train_model('mnist_model', fetches='loss',\n",
    "                               feed_dict={'images': B('images'),\n",
    "                                          'labels': B('labels')}, \n",
    "                               save_to=V('loss_history'), mode='a'))"
   ]
  },
  {
   "cell_type": "markdown",
   "metadata": {},
   "source": [
    "Execute training"
   ]
  },
  {
   "cell_type": "code",
   "execution_count": 6,
   "metadata": {},
   "outputs": [
    {
     "name": "stderr",
     "output_type": "stream",
     "text": [
      "100%|██████████| 937/937 [02:31<00:00,  6.48it/s]\n"
     ]
    }
   ],
   "source": [
    "train_pipeline = ((train_template << mnist.train)\n",
    "                  .run(64, shuffle=True, n_epochs=1, drop_last=True, bar=True))"
   ]
  },
  {
   "cell_type": "markdown",
   "metadata": {},
   "source": [
    "The loss function vs number of iterations:"
   ]
  },
  {
   "cell_type": "code",
   "execution_count": 7,
   "metadata": {},
   "outputs": [
    {
     "data": {
      "image/png": "[encoded data removed]",
      "text/plain": [
       "<Figure size 432x288 with 1 Axes>"
      ]
     },
     "metadata": {},
     "output_type": "display_data"
    }
   ],
   "source": [
    "show_loss(train_pipeline.get_variable('loss_history'), skip=10)"
   ]
  },
  {
   "cell_type": "markdown",
   "metadata": {},
   "source": [
    "## Inference\n",
    "\n",
    "Prediction pipeline:"
   ]
  },
  {
   "cell_type": "code",
   "execution_count": 8,
   "metadata": {},
   "outputs": [],
   "source": [
    "predict_template = (Pipeline()\n",
    "                    .import_model('mnist_model', train_pipeline)\n",
    "                    .init_variable(\"predictions\", init_on_each_run=list)\n",
    "                    .to_array()\n",
    "                    .predict_model('mnist_model', fetches='proba',\n",
    "                                   feed_dict={'images': B('images')},\n",
    "                                   save_to=V('predictions'), mode=\"e\"))"
   ]
  },
  {
   "cell_type": "markdown",
   "metadata": {},
   "source": [
    "Execute prediction pipeline"
   ]
  },
  {
   "cell_type": "code",
   "execution_count": 9,
   "metadata": {},
   "outputs": [
    {
     "name": "stderr",
     "output_type": "stream",
     "text": [
      " 99%|█████████▉| 156/157 [00:06<00:00, 23.95it/s]\n"
     ]
    }
   ],
   "source": [
    "predict_pipeline = ((predict_template << mnist.test)\n",
    "                    .run(64, shuffle=False, n_epochs=1, drop_last=False, bar=True))"
   ]
  },
  {
   "cell_type": "code",
   "execution_count": 10,
   "metadata": {},
   "outputs": [
    {
     "data": {
      "image/png": "[encoded data removed]",
      "text/plain": [
       "<Figure size 1080x216 with 6 Axes>"
      ]
     },
     "metadata": {},
     "output_type": "display_data"
    }
   ],
   "source": [
    "size = 5\n",
    "y_pred = predict_pipeline.get_variable('predictions')\n",
    "show_samples(test.to_array().images[:size, :, :, 0], labels=np.argmax(y_pred[:size], axis=1))"
   ]
  },
  {
   "cell_type": "markdown",
   "metadata": {},
   "source": [
    "## Model evaluation\n",
    "\n",
    "Quality metric, in this case, is ```accuracy``` on the test set.\n",
    "\n",
    "Metric evaluation pipeline:"
   ]
  },
  {
   "cell_type": "code",
   "execution_count": 11,
   "metadata": {},
   "outputs": [],
   "source": [
    "test_template = (Pipeline()\n",
    "                 .import_model('mnist_model', train_pipeline)\n",
    "                 .init_variable('predictions', init_on_each_run=list)\n",
    "                 .init_variable('metrics', init_on_each_run=None)\n",
    "                 .to_array()\n",
    "                 .predict_model('mnist_model', fetches='proba', \n",
    "                                feed_dict={'images': B('images')},\n",
    "                                save_to=V('predictions'))\n",
    "                 .gather_metrics('class', targets=B('labels'), predictions=V('predictions'),\n",
    "                                 fmt='proba', axis=-1, save_to=V('metrics'), mode='u'))"
   ]
  },
  {
   "cell_type": "code",
   "execution_count": 12,
   "metadata": {},
   "outputs": [
    {
     "name": "stderr",
     "output_type": "stream",
     "text": [
      "100%|██████████| 156/156 [00:07<00:00, 21.51it/s]\n"
     ]
    }
   ],
   "source": [
    "test_pipeline = ((test_template << mnist.test)\n",
    "                 .run(64, shuffle=False, n_epochs=1, drop_last=True, bar=True))"
   ]
  },
  {
   "cell_type": "code",
   "execution_count": 13,
   "metadata": {},
   "outputs": [
    {
     "name": "stdout",
     "output_type": "stream",
     "text": [
      "Accuracy: 0.985\n"
     ]
    }
   ],
   "source": [
    "metrics = test_pipeline.get_variable('metrics')\n",
    "print(\"Accuracy: %.3f\" % metrics.evaluate('accuracy'))"
   ]
  },
  {
   "cell_type": "markdown",
   "metadata": {},
   "source": [
    "For model performance assessment an [experiment](./model_estimation.ipynb) was conducted on 20 model training launches from  scratch.\n",
    "\n",
    "Research results loading and a distribution for `accuracy`:"
   ]
  },
  {
   "cell_type": "code",
   "execution_count": 14,
   "metadata": {},
   "outputs": [],
   "source": [
    "df = Results(path='model_estimation_research').load()\n",
    "values = df[df['name'] == 'test']['metrics'].apply(lambda x: x.evaluate('accuracy')).values"
   ]
  },
  {
   "cell_type": "markdown",
   "metadata": {},
   "source": [
    "`Accuracy` histogram"
   ]
  },
  {
   "cell_type": "code",
   "execution_count": 15,
   "metadata": {},
   "outputs": [
    {
     "data": {
      "image/png": "[encoded data removed]",
      "text/plain": [
       "<Figure size 432x288 with 1 Axes>"
      ]
     },
     "metadata": {},
     "output_type": "display_data"
    },
    {
     "name": "stdout",
     "output_type": "stream",
     "text": [
      "Среднее значение (медиана): 0.985\n"
     ]
    }
   ],
   "source": [
    "show_histogram(values)\n",
    "print('Среднее значение (медиана): %.3f' % np.median(values))"
   ]
  },
  {
   "cell_type": "markdown",
   "metadata": {},
   "source": [
    "Average value (median): 0.0985"
   ]
  },
  {
   "cell_type": "markdown",
   "metadata": {},
   "source": [
    "```confusion_matrix``` on 10 classes (rows and columns are numbered from 0 до 9 corresponding to the numbers on\n",
    "the images):"
   ]
  },
  {
   "cell_type": "code",
   "execution_count": 16,
   "metadata": {},
   "outputs": [
    {
     "name": "stdout",
     "output_type": "stream",
     "text": [
      "[[ 974    0    3    1    1    1    7    0    6    1]\n",
      " [   0 1127    2    0    0    0    4    2    0    0]\n",
      " [   2    1 1016    3    1    0    0    4    0    0]\n",
      " [   0    2    2  991    0    7    0    2    3    1]\n",
      " [   0    0    1    1  962    1    2    0    2    1]\n",
      " [   1    1    0    5    0  878    5    0    2    4]\n",
      " [   0    0    0    0    0    1  934    0    0    1]\n",
      " [   2    1    3    2    0    0    0 1011    0    4]\n",
      " [   0    1    3    3    3    1    4    0  951    4]\n",
      " [   0    0    0    2   13    1    0    8    9  992]]\n"
     ]
    }
   ],
   "source": [
    "cfm = get_confusion_matrix(metrics)\n",
    "print(cfm)"
   ]
  },
  {
   "cell_type": "markdown",
   "metadata": {},
   "source": [
    " `Precision` Histogram for each class:"
   ]
  },
  {
   "cell_type": "code",
   "execution_count": 17,
   "metadata": {},
   "outputs": [
    {
     "data": {
      "image/png": "[encoded data removed]",
      "text/plain": [
       "<Figure size 432x288 with 1 Axes>"
      ]
     },
     "metadata": {},
     "output_type": "display_data"
    }
   ],
   "source": [
    "class_precision(cfm)"
   ]
  },
  {
   "cell_type": "markdown",
   "metadata": {},
   "source": [
    "## Operating time\n",
    "\n",
    "Device: CPU i7.\n",
    "\n",
    "One train step on batch size 64 takes 200 ms. Training time is 32 s.\n",
    "\n",
    "One image inference takes 3 ms, for batch size 64 - 44 ms."
   ]
  },
  {
   "cell_type": "markdown",
   "metadata": {},
   "source": [
    "## Criticism"
   ]
  },
  {
   "cell_type": "markdown",
   "metadata": {},
   "source": [
    "To identify weak spots of the model we performed model prediction on the shifted images.\n",
    "To do so we added an image shift step to the prediction pipeline. An image is shifted on a random number of pixels from the uniform distribution in [-5, 5]"
   ]
  },
  {
   "cell_type": "code",
   "execution_count": 18,
   "metadata": {},
   "outputs": [],
   "source": [
    "template_criticism_pipeline = (\n",
    "  Pipeline()\n",
    "    .import_model(\"mnist_model\", train_pipeline)\n",
    "    .init_variable(\"predictions\")\n",
    "    .init_variable(\"metrics\", init_on_each_run=None)\n",
    "    .shift((R(\"randint\", -5, 5), R(\"randint\", -5, 5)))\n",
    "    .to_array()\n",
    "    .predict_model(\"mnist_model\", fetches=\"predictions\", save_to=V(\"predictions\"),\n",
    "                   feed_dict={\"images\": B(\"images\")})\n",
    "    .gather_metrics(\"class\", targets=B(\"labels\"), predictions=V(\"predictions\"),\n",
    "                    fmt=\"logits\", axis=-1, save_to=V(\"metrics\"), mode=\"u\")\n",
    "    .run(batch_size=64, n_epochs=1, drop_last=False, bar=True, lazy=True)\n",
    ")"
   ]
  },
  {
   "cell_type": "markdown",
   "metadata": {},
   "source": [
    "Run criticism pipeline"
   ]
  },
  {
   "cell_type": "code",
   "execution_count": 19,
   "metadata": {},
   "outputs": [
    {
     "name": "stderr",
     "output_type": "stream",
     "text": [
      " 99%|█████████▉| 156/157 [00:07<00:00, 20.65it/s]\n"
     ]
    }
   ],
   "source": [
    "criticism_pipeline = (mnist.test >> template_criticism_pipeline).run()"
   ]
  },
  {
   "cell_type": "markdown",
   "metadata": {},
   "source": [
    "Compute `accuracy`"
   ]
  },
  {
   "cell_type": "code",
   "execution_count": 20,
   "metadata": {},
   "outputs": [
    {
     "name": "stdout",
     "output_type": "stream",
     "text": [
      "Accuracy: 0.810\n"
     ]
    }
   ],
   "source": [
    "print(\"Accuracy: %.3f\" % criticism_pipeline.get_variable(\"metrics\").evaluate(\"accuracy\"))"
   ]
  },
  {
   "cell_type": "markdown",
   "metadata": {},
   "source": [
    "Accuracy decreased by 20%, which means the model is sensitive to a shift."
   ]
  },
  {
   "cell_type": "markdown",
   "metadata": {},
   "source": [
    "## Summary\n",
    "\n",
    "The model classifies images of size 28х28 with digits in greyscale. The average (median) model accuracy is 98.5%.\n"
   ]
  },
  {
   "cell_type": "markdown",
   "metadata": {},
   "source": [
    "## Proposals for the improvement and further development\n",
    "\n",
    "For robust classification improvement (relative to the shift of an image from the central position) we suggest to include augmentation to the training pipeline."
   ]
  }
 ],
 "metadata": {
  "anaconda-cloud": {},
  "kernelspec": {
   "display_name": "Python 3",
   "language": "python",
   "name": "python3"
  },
  "language_info": {
   "codemirror_mode": {
    "name": "ipython",
    "version": 3
   },
   "file_extension": ".py",
   "mimetype": "text/x-python",
   "name": "python",
   "nbconvert_exporter": "python",
   "pygments_lexer": "ipython3",
   "version": "3.7.1"
  }
 },
 "nbformat": 4,
 "nbformat_minor": 2
}
